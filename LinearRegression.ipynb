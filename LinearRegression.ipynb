{
  "nbformat": 4,
  "nbformat_minor": 0,
  "metadata": {
    "colab": {
      "provenance": [],
      "authorship_tag": "ABX9TyNSaJU1/qobIixnvPl8a6jw",
      "include_colab_link": true
    },
    "kernelspec": {
      "name": "python3",
      "display_name": "Python 3"
    },
    "language_info": {
      "name": "python"
    }
  },
  "cells": [
    {
      "cell_type": "markdown",
      "metadata": {
        "id": "view-in-github",
        "colab_type": "text"
      },
      "source": [
        "<a href=\"https://colab.research.google.com/github/AdwaitaSathrukkan/ML_Practice_Session/blob/main/LinearRegression.ipynb\" target=\"_parent\"><img src=\"https://colab.research.google.com/assets/colab-badge.svg\" alt=\"Open In Colab\"/></a>"
      ]
    },
    {
      "cell_type": "markdown",
      "source": [
        "##Hard coding of linear regression\n",
        "##(Simple LR)\n",
        "Sxy is known as sum of cross deviations of x and y,\n",
        "Sxx=sum of squared deviations of x\n",
        "#calculate 1)MAE 2)MSE 3)RMSE"
      ],
      "metadata": {
        "id": "gToDYgnamEww"
      }
    },
    {
      "cell_type": "code",
      "source": [
        "import pandas as pd\n",
        "from sklearn.metrics import mean_squared_error,mean_absolute_error\n",
        "import numpy as np\n",
        "import matplotlib.pyplot as plt\n"
      ],
      "metadata": {
        "id": "TVsfxe-xmUad"
      },
      "execution_count": 1,
      "outputs": []
    },
    {
      "cell_type": "markdown",
      "source": [
        "\n",
        "*   fit() //understand hidden patterns in the data\n",
        "*   transform //change the data from original to intended form\n",
        "*   fit_transform() // both will happen\n",
        "*   \n",
        "\n",
        "\n",
        "\n",
        "\n"
      ],
      "metadata": {
        "id": "ZE9_8QYwreJ-"
      }
    }
  ]
}